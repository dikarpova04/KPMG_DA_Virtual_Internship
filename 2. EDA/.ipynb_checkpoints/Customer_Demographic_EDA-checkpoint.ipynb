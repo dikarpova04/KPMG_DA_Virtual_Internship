{
 "cells": [
  {
   "cell_type": "code",
   "execution_count": 21,
   "id": "dd6d324c-972f-44a4-a5bf-c76096fb31b4",
   "metadata": {},
   "outputs": [],
   "source": [
    "import pandas as pd\n",
    "import numpy as np\n",
    "import matplotlib.pyplot as plt\n",
    "import dtale\n",
    "import datetime\n",
    "\n",
    "import warnings\n",
    "warnings.filterwarnings('ignore')"
   ]
  },
  {
   "cell_type": "code",
   "execution_count": 22,
   "id": "6cd5bc7f-96bd-4d97-9f48-929a4d5fc78e",
   "metadata": {},
   "outputs": [],
   "source": [
    "# read data\n",
    "df_demograph = pd.read_excel('KPMG_VI_New_raw_data_update_final.xlsx', sheet_name='CustomerDemographic')"
   ]
  },
  {
   "cell_type": "code",
   "execution_count": 23,
   "id": "a741d427-740e-4f81-a97c-88dc11e4792b",
   "metadata": {},
   "outputs": [],
   "source": [
    "# create columns\n",
    "df_demograph.columns = df_demograph.iloc[0]\n",
    "df_demograph = df_demograph.iloc[1:]"
   ]
  },
  {
   "cell_type": "code",
   "execution_count": 24,
   "id": "f194e39a-121d-4f87-80f1-2bea52bcb4a1",
   "metadata": {},
   "outputs": [
    {
     "name": "stdout",
     "output_type": "stream",
     "text": [
      "<class 'pandas.core.frame.DataFrame'>\n",
      "RangeIndex: 4000 entries, 1 to 4000\n",
      "Data columns (total 13 columns):\n",
      " #   Column                               Non-Null Count  Dtype \n",
      "---  ------                               --------------  ----- \n",
      " 0   customer_id                          4000 non-null   object\n",
      " 1   first_name                           4000 non-null   object\n",
      " 2   last_name                            3875 non-null   object\n",
      " 3   gender                               4000 non-null   object\n",
      " 4   past_3_years_bike_related_purchases  4000 non-null   object\n",
      " 5   DOB                                  3913 non-null   object\n",
      " 6   job_title                            3494 non-null   object\n",
      " 7   job_industry_category                3344 non-null   object\n",
      " 8   wealth_segment                       4000 non-null   object\n",
      " 9   deceased_indicator                   4000 non-null   object\n",
      " 10  default                              3698 non-null   object\n",
      " 11  owns_car                             4000 non-null   object\n",
      " 12  tenure                               3913 non-null   object\n",
      "dtypes: object(13)\n",
      "memory usage: 406.4+ KB\n"
     ]
    }
   ],
   "source": [
    "df_demograph.info()"
   ]
  },
  {
   "cell_type": "code",
   "execution_count": 25,
   "id": "eb8dc1c5-e224-4652-863f-61ba48c9509f",
   "metadata": {},
   "outputs": [],
   "source": [
    "df_demograph = df_demograph.set_index('customer_id')"
   ]
  },
  {
   "cell_type": "code",
   "execution_count": 18,
   "id": "d44fdc16-601d-41f8-8637-bae5af166f8b",
   "metadata": {},
   "outputs": [
    {
     "data": {
      "text/html": [
       "\n",
       "        <iframe\n",
       "            width=\"100%\"\n",
       "            height=\"475\"\n",
       "            src=\"http://13700K:40000/dtale/iframe/6\"\n",
       "            frameborder=\"0\"\n",
       "            allowfullscreen\n",
       "            \n",
       "        ></iframe>\n",
       "        "
      ],
      "text/plain": [
       "<IPython.lib.display.IFrame at 0x24baef0c710>"
      ]
     },
     "metadata": {},
     "output_type": "display_data"
    },
    {
     "data": {
      "text/plain": []
     },
     "execution_count": 18,
     "metadata": {},
     "output_type": "execute_result"
    }
   ],
   "source": [
    "dtale.show(df_demograph)"
   ]
  },
  {
   "cell_type": "code",
   "execution_count": 27,
   "id": "477d3675-99a6-49f7-8618-fd38b47335ad",
   "metadata": {},
   "outputs": [],
   "source": [
    "# convert past_3_years_bike_related_purchases and customer_id to int\n",
    "df_demograph['past_3_years_bike_related_purchases'] = df_demograph['past_3_years_bike_related_purchases'].astype(int)"
   ]
  },
  {
   "cell_type": "code",
   "execution_count": 28,
   "id": "e8030797-df85-410d-9615-5c194886cd6e",
   "metadata": {},
   "outputs": [
    {
     "data": {
      "text/plain": [
       "gender\n",
       "Female     2039\n",
       "Male       1873\n",
       "Unknown      88\n",
       "Name: count, dtype: int64"
      ]
     },
     "execution_count": 28,
     "metadata": {},
     "output_type": "execute_result"
    }
   ],
   "source": [
    "# clean gender\n",
    "df_demograph['gender'].replace({'U': 'Unknown', 'F': 'Female', 'Femal': 'Female', 'M': 'Male'}, inplace=True)\n",
    "df_demograph['gender'].value_counts()"
   ]
  },
  {
   "cell_type": "code",
   "execution_count": 29,
   "id": "4ddbaeff-7992-44fe-ab69-7478a05f6e96",
   "metadata": {},
   "outputs": [],
   "source": [
    "# create new column age and fill Nan\n",
    "df_demograph['DOB'] = pd.to_datetime(df_demograph['DOB'])\n",
    "current_date = datetime.datetime.now()\n",
    "df_demograph['age'] = (current_date - df_demograph['DOB']).apply(lambda x: x.days // 365)\n",
    "mean_age = df_demograph['age'].mean()\n",
    "df_demograph['age'].fillna(mean_age, inplace=True)\n",
    "df_demograph['age'] = df_demograph['age'].astype('int')"
   ]
  },
  {
   "cell_type": "code",
   "execution_count": 30,
   "id": "76ed19aa-eb54-4655-85a9-131693ae8abb",
   "metadata": {},
   "outputs": [],
   "source": [
    "# delete default and DOB columns\n",
    "df_demograph = df_demograph.drop(columns = 'default')\n",
    "df_demograph = df_demograph.drop(columns = 'DOB')"
   ]
  },
  {
   "cell_type": "code",
   "execution_count": 31,
   "id": "98afd4a4-6c4d-4624-8e35-57c88e022d97",
   "metadata": {},
   "outputs": [],
   "source": [
    "# change columns deceased_indicator and owns_car to data 0 and 1\n",
    "df_demograph['deceased_indicator'] = df_demograph['deceased_indicator'].apply(lambda x: 0 if x == 'N' else 1)\n",
    "# df_demograph['deceased_indicator'] = df_demograph['deceased_indicator'].astype(bool)\n",
    "df_demograph['owns_car'] = df_demograph['owns_car'].apply(lambda x: 0 if x == 'No' else 1)"
   ]
  },
  {
   "cell_type": "code",
   "execution_count": 32,
   "id": "8b71bcd9-795f-4448-8828-6a62892c645c",
   "metadata": {},
   "outputs": [
    {
     "data": {
      "text/html": [
       "<div>\n",
       "<style scoped>\n",
       "    .dataframe tbody tr th:only-of-type {\n",
       "        vertical-align: middle;\n",
       "    }\n",
       "\n",
       "    .dataframe tbody tr th {\n",
       "        vertical-align: top;\n",
       "    }\n",
       "\n",
       "    .dataframe thead th {\n",
       "        text-align: right;\n",
       "    }\n",
       "</style>\n",
       "<table border=\"1\" class=\"dataframe\">\n",
       "  <thead>\n",
       "    <tr style=\"text-align: right;\">\n",
       "      <th></th>\n",
       "      <th>first_name</th>\n",
       "      <th>last_name</th>\n",
       "      <th>gender</th>\n",
       "      <th>past_3_years_bike_related_purchases</th>\n",
       "      <th>job_title</th>\n",
       "      <th>job_industry_category</th>\n",
       "      <th>wealth_segment</th>\n",
       "      <th>deceased_indicator</th>\n",
       "      <th>owns_car</th>\n",
       "      <th>tenure</th>\n",
       "      <th>age</th>\n",
       "    </tr>\n",
       "    <tr>\n",
       "      <th>customer_id</th>\n",
       "      <th></th>\n",
       "      <th></th>\n",
       "      <th></th>\n",
       "      <th></th>\n",
       "      <th></th>\n",
       "      <th></th>\n",
       "      <th></th>\n",
       "      <th></th>\n",
       "      <th></th>\n",
       "      <th></th>\n",
       "      <th></th>\n",
       "    </tr>\n",
       "  </thead>\n",
       "  <tbody>\n",
       "    <tr>\n",
       "      <th>1</th>\n",
       "      <td>Laraine</td>\n",
       "      <td>Medendorp</td>\n",
       "      <td>Female</td>\n",
       "      <td>93</td>\n",
       "      <td>Executive Secretary</td>\n",
       "      <td>Health</td>\n",
       "      <td>Mass Customer</td>\n",
       "      <td>0</td>\n",
       "      <td>1</td>\n",
       "      <td>11</td>\n",
       "      <td>69</td>\n",
       "    </tr>\n",
       "    <tr>\n",
       "      <th>2</th>\n",
       "      <td>Eli</td>\n",
       "      <td>Bockman</td>\n",
       "      <td>Male</td>\n",
       "      <td>81</td>\n",
       "      <td>Administrative Officer</td>\n",
       "      <td>Financial Services</td>\n",
       "      <td>Mass Customer</td>\n",
       "      <td>0</td>\n",
       "      <td>1</td>\n",
       "      <td>16</td>\n",
       "      <td>42</td>\n",
       "    </tr>\n",
       "    <tr>\n",
       "      <th>3</th>\n",
       "      <td>Arlin</td>\n",
       "      <td>Dearle</td>\n",
       "      <td>Male</td>\n",
       "      <td>61</td>\n",
       "      <td>Recruiting Manager</td>\n",
       "      <td>Property</td>\n",
       "      <td>Mass Customer</td>\n",
       "      <td>0</td>\n",
       "      <td>1</td>\n",
       "      <td>15</td>\n",
       "      <td>69</td>\n",
       "    </tr>\n",
       "    <tr>\n",
       "      <th>4</th>\n",
       "      <td>Talbot</td>\n",
       "      <td>NaN</td>\n",
       "      <td>Male</td>\n",
       "      <td>33</td>\n",
       "      <td>NaN</td>\n",
       "      <td>IT</td>\n",
       "      <td>Mass Customer</td>\n",
       "      <td>0</td>\n",
       "      <td>0</td>\n",
       "      <td>7</td>\n",
       "      <td>61</td>\n",
       "    </tr>\n",
       "    <tr>\n",
       "      <th>5</th>\n",
       "      <td>Sheila-kathryn</td>\n",
       "      <td>Calton</td>\n",
       "      <td>Female</td>\n",
       "      <td>56</td>\n",
       "      <td>Senior Editor</td>\n",
       "      <td>NaN</td>\n",
       "      <td>Affluent Customer</td>\n",
       "      <td>0</td>\n",
       "      <td>1</td>\n",
       "      <td>8</td>\n",
       "      <td>46</td>\n",
       "    </tr>\n",
       "  </tbody>\n",
       "</table>\n",
       "</div>"
      ],
      "text/plain": [
       "0                first_name  last_name  gender  \\\n",
       "customer_id                                      \n",
       "1                   Laraine  Medendorp  Female   \n",
       "2                       Eli    Bockman    Male   \n",
       "3                     Arlin     Dearle    Male   \n",
       "4                    Talbot        NaN    Male   \n",
       "5            Sheila-kathryn     Calton  Female   \n",
       "\n",
       "0            past_3_years_bike_related_purchases               job_title  \\\n",
       "customer_id                                                                \n",
       "1                                             93     Executive Secretary   \n",
       "2                                             81  Administrative Officer   \n",
       "3                                             61      Recruiting Manager   \n",
       "4                                             33                     NaN   \n",
       "5                                             56           Senior Editor   \n",
       "\n",
       "0           job_industry_category     wealth_segment  deceased_indicator  \\\n",
       "customer_id                                                                \n",
       "1                          Health      Mass Customer                   0   \n",
       "2              Financial Services      Mass Customer                   0   \n",
       "3                        Property      Mass Customer                   0   \n",
       "4                              IT      Mass Customer                   0   \n",
       "5                             NaN  Affluent Customer                   0   \n",
       "\n",
       "0            owns_car tenure  age  \n",
       "customer_id                        \n",
       "1                   1     11   69  \n",
       "2                   1     16   42  \n",
       "3                   1     15   69  \n",
       "4                   0      7   61  \n",
       "5                   1      8   46  "
      ]
     },
     "execution_count": 32,
     "metadata": {},
     "output_type": "execute_result"
    }
   ],
   "source": [
    "df_demograph.head()"
   ]
  },
  {
   "cell_type": "code",
   "execution_count": 33,
   "id": "a22b9a94-1647-412d-ad8b-da5d7bb7020e",
   "metadata": {},
   "outputs": [
    {
     "data": {
      "text/plain": [
       "0\n",
       "first_name                               0\n",
       "last_name                              125\n",
       "gender                                   0\n",
       "past_3_years_bike_related_purchases      0\n",
       "job_title                              506\n",
       "job_industry_category                  656\n",
       "wealth_segment                           0\n",
       "deceased_indicator                       0\n",
       "owns_car                                 0\n",
       "tenure                                  87\n",
       "age                                      0\n",
       "dtype: int64"
      ]
     },
     "execution_count": 33,
     "metadata": {},
     "output_type": "execute_result"
    }
   ],
   "source": [
    "df_demograph.isnull().sum()"
   ]
  },
  {
   "cell_type": "code",
   "execution_count": 34,
   "id": "49564147-4681-451b-88eb-2cf2974af706",
   "metadata": {},
   "outputs": [],
   "source": [
    "# fill Nan\n",
    "df_demograph['last_name'] = df_demograph.groupby('first_name').last_name.bfill().ffill()\n",
    "df_demograph['job_title'] = df_demograph['job_title'].fillna(method='bfill')\n",
    "df_demograph['job_industry_category'] = df_demograph['job_industry_category'].fillna(method='ffill')\n",
    "mean_tenure = df_demograph['tenure'].mean()\n",
    "df_demograph['tenure'] = df_demograph['tenure'].fillna(mean_tenure)"
   ]
  },
  {
   "cell_type": "code",
   "execution_count": 35,
   "id": "31ba4518-91c7-47e9-8852-8041aeb26a7a",
   "metadata": {},
   "outputs": [
    {
     "name": "stdout",
     "output_type": "stream",
     "text": [
      "<class 'pandas.core.frame.DataFrame'>\n",
      "Index: 4000 entries, 1 to 4000\n",
      "Data columns (total 11 columns):\n",
      " #   Column                               Non-Null Count  Dtype  \n",
      "---  ------                               --------------  -----  \n",
      " 0   first_name                           4000 non-null   object \n",
      " 1   last_name                            4000 non-null   object \n",
      " 2   gender                               4000 non-null   object \n",
      " 3   past_3_years_bike_related_purchases  4000 non-null   int32  \n",
      " 4   job_title                            4000 non-null   object \n",
      " 5   job_industry_category                4000 non-null   object \n",
      " 6   wealth_segment                       4000 non-null   object \n",
      " 7   deceased_indicator                   4000 non-null   int64  \n",
      " 8   owns_car                             4000 non-null   int64  \n",
      " 9   tenure                               4000 non-null   float64\n",
      " 10  age                                  4000 non-null   int32  \n",
      "dtypes: float64(1), int32(2), int64(2), object(6)\n",
      "memory usage: 343.8+ KB\n"
     ]
    }
   ],
   "source": [
    "df_demograph.info()"
   ]
  },
  {
   "cell_type": "code",
   "execution_count": 36,
   "id": "722f1c4a-c90c-4cc7-b02e-f4d0f6efcee3",
   "metadata": {},
   "outputs": [],
   "source": [
    "df_demograph.to_csv('Cust_Demograph_cleaned.csv')"
   ]
  },
  {
   "cell_type": "code",
   "execution_count": null,
   "id": "2c73d122-7924-4acc-b99d-75904bc2674a",
   "metadata": {},
   "outputs": [],
   "source": []
  }
 ],
 "metadata": {
  "kernelspec": {
   "display_name": "Python 3 (ipykernel)",
   "language": "python",
   "name": "python3"
  },
  "language_info": {
   "codemirror_mode": {
    "name": "ipython",
    "version": 3
   },
   "file_extension": ".py",
   "mimetype": "text/x-python",
   "name": "python",
   "nbconvert_exporter": "python",
   "pygments_lexer": "ipython3",
   "version": "3.11.4"
  }
 },
 "nbformat": 4,
 "nbformat_minor": 5
}
