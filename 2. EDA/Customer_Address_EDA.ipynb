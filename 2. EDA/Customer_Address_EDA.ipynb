{
 "cells": [
  {
   "cell_type": "code",
   "execution_count": 1,
   "id": "fd9373c4-09bf-4981-a7ca-5e52f910db77",
   "metadata": {},
   "outputs": [],
   "source": [
    "import pandas as pd\n",
    "import numpy as np\n",
    "import matplotlib.pyplot as plt\n",
    "\n",
    "import warnings\n",
    "warnings.filterwarnings('ignore')"
   ]
  },
  {
   "cell_type": "code",
   "execution_count": 2,
   "id": "ceb9d27d-8873-4419-acee-2081ab9ad578",
   "metadata": {},
   "outputs": [],
   "source": [
    "# read data\n",
    "df_address = pd.read_excel('KPMG_VI_New_raw_data_update_final.xlsx', sheet_name='CustomerAddress')"
   ]
  },
  {
   "cell_type": "code",
   "execution_count": 3,
   "id": "6b9c1e0d-dd0a-4b83-87bc-4b9ed591470e",
   "metadata": {},
   "outputs": [],
   "source": [
    "df_address.columns = df_address.iloc[0]\n",
    "df_address = df_address.iloc[1:]"
   ]
  },
  {
   "cell_type": "code",
   "execution_count": 4,
   "id": "593f8bd3-ce99-4551-b7c0-35871d3f2b58",
   "metadata": {},
   "outputs": [
    {
     "name": "stdout",
     "output_type": "stream",
     "text": [
      "<class 'pandas.core.frame.DataFrame'>\n",
      "RangeIndex: 3999 entries, 1 to 3999\n",
      "Data columns (total 6 columns):\n",
      " #   Column              Non-Null Count  Dtype \n",
      "---  ------              --------------  ----- \n",
      " 0   customer_id         3999 non-null   object\n",
      " 1   address             3999 non-null   object\n",
      " 2   postcode            3999 non-null   object\n",
      " 3   state               3999 non-null   object\n",
      " 4   country             3999 non-null   object\n",
      " 5   property_valuation  3999 non-null   object\n",
      "dtypes: object(6)\n",
      "memory usage: 187.6+ KB\n"
     ]
    }
   ],
   "source": [
    "df_address.info()"
   ]
  },
  {
   "cell_type": "code",
   "execution_count": 5,
   "id": "fc3cbce6-bb7a-4ba0-ae9b-82245c4d589f",
   "metadata": {},
   "outputs": [],
   "source": [
    "# set index\n",
    "df_address = df_address.set_index('customer_id')"
   ]
  },
  {
   "cell_type": "code",
   "execution_count": 6,
   "id": "9e75480e-f419-4971-b39f-8ab26077a7ca",
   "metadata": {},
   "outputs": [
    {
     "data": {
      "text/plain": [
       "0\n",
       "address               0\n",
       "postcode              0\n",
       "state                 0\n",
       "country               0\n",
       "property_valuation    0\n",
       "dtype: int64"
      ]
     },
     "execution_count": 6,
     "metadata": {},
     "output_type": "execute_result"
    }
   ],
   "source": [
    "df_address.isnull().sum()"
   ]
  },
  {
   "cell_type": "code",
   "execution_count": 7,
   "id": "92faec01-7104-4606-acf5-cde5f41a91ae",
   "metadata": {},
   "outputs": [
    {
     "data": {
      "text/plain": [
       "state\n",
       "NSW    2140\n",
       "VIC    1021\n",
       "QLD     838\n",
       "Name: count, dtype: int64"
      ]
     },
     "execution_count": 7,
     "metadata": {},
     "output_type": "execute_result"
    }
   ],
   "source": [
    "# rename some velues in column state\n",
    "df_address['state'].replace({'New South Wales': 'NSW', 'Victoria': 'VIC'}, inplace=True)\n",
    "df_address['state'].value_counts()"
   ]
  },
  {
   "cell_type": "code",
   "execution_count": 8,
   "id": "14aa36ce-f492-4ffd-9b3a-a4f1732371b1",
   "metadata": {},
   "outputs": [
    {
     "data": {
      "text/html": [
       "<div>\n",
       "<style scoped>\n",
       "    .dataframe tbody tr th:only-of-type {\n",
       "        vertical-align: middle;\n",
       "    }\n",
       "\n",
       "    .dataframe tbody tr th {\n",
       "        vertical-align: top;\n",
       "    }\n",
       "\n",
       "    .dataframe thead th {\n",
       "        text-align: right;\n",
       "    }\n",
       "</style>\n",
       "<table border=\"1\" class=\"dataframe\">\n",
       "  <thead>\n",
       "    <tr style=\"text-align: right;\">\n",
       "      <th></th>\n",
       "      <th>address</th>\n",
       "      <th>postcode</th>\n",
       "      <th>state</th>\n",
       "      <th>country</th>\n",
       "      <th>property_valuation</th>\n",
       "    </tr>\n",
       "    <tr>\n",
       "      <th>customer_id</th>\n",
       "      <th></th>\n",
       "      <th></th>\n",
       "      <th></th>\n",
       "      <th></th>\n",
       "      <th></th>\n",
       "    </tr>\n",
       "  </thead>\n",
       "  <tbody>\n",
       "    <tr>\n",
       "      <th>1</th>\n",
       "      <td>060 Morning Avenue</td>\n",
       "      <td>2016</td>\n",
       "      <td>NSW</td>\n",
       "      <td>Australia</td>\n",
       "      <td>10</td>\n",
       "    </tr>\n",
       "    <tr>\n",
       "      <th>2</th>\n",
       "      <td>6 Meadow Vale Court</td>\n",
       "      <td>2153</td>\n",
       "      <td>NSW</td>\n",
       "      <td>Australia</td>\n",
       "      <td>10</td>\n",
       "    </tr>\n",
       "    <tr>\n",
       "      <th>4</th>\n",
       "      <td>0 Holy Cross Court</td>\n",
       "      <td>4211</td>\n",
       "      <td>QLD</td>\n",
       "      <td>Australia</td>\n",
       "      <td>9</td>\n",
       "    </tr>\n",
       "    <tr>\n",
       "      <th>5</th>\n",
       "      <td>17979 Del Mar Point</td>\n",
       "      <td>2448</td>\n",
       "      <td>NSW</td>\n",
       "      <td>Australia</td>\n",
       "      <td>4</td>\n",
       "    </tr>\n",
       "    <tr>\n",
       "      <th>6</th>\n",
       "      <td>9 Oakridge Court</td>\n",
       "      <td>3216</td>\n",
       "      <td>VIC</td>\n",
       "      <td>Australia</td>\n",
       "      <td>9</td>\n",
       "    </tr>\n",
       "    <tr>\n",
       "      <th>...</th>\n",
       "      <td>...</td>\n",
       "      <td>...</td>\n",
       "      <td>...</td>\n",
       "      <td>...</td>\n",
       "      <td>...</td>\n",
       "    </tr>\n",
       "    <tr>\n",
       "      <th>3999</th>\n",
       "      <td>1482 Hauk Trail</td>\n",
       "      <td>3064</td>\n",
       "      <td>VIC</td>\n",
       "      <td>Australia</td>\n",
       "      <td>3</td>\n",
       "    </tr>\n",
       "    <tr>\n",
       "      <th>4000</th>\n",
       "      <td>57042 Village Green Point</td>\n",
       "      <td>4511</td>\n",
       "      <td>QLD</td>\n",
       "      <td>Australia</td>\n",
       "      <td>6</td>\n",
       "    </tr>\n",
       "    <tr>\n",
       "      <th>4001</th>\n",
       "      <td>87 Crescent Oaks Alley</td>\n",
       "      <td>2756</td>\n",
       "      <td>NSW</td>\n",
       "      <td>Australia</td>\n",
       "      <td>10</td>\n",
       "    </tr>\n",
       "    <tr>\n",
       "      <th>4002</th>\n",
       "      <td>8194 Lien Street</td>\n",
       "      <td>4032</td>\n",
       "      <td>QLD</td>\n",
       "      <td>Australia</td>\n",
       "      <td>7</td>\n",
       "    </tr>\n",
       "    <tr>\n",
       "      <th>4003</th>\n",
       "      <td>320 Acker Drive</td>\n",
       "      <td>2251</td>\n",
       "      <td>NSW</td>\n",
       "      <td>Australia</td>\n",
       "      <td>7</td>\n",
       "    </tr>\n",
       "  </tbody>\n",
       "</table>\n",
       "<p>3999 rows × 5 columns</p>\n",
       "</div>"
      ],
      "text/plain": [
       "0                              address postcode state    country  \\\n",
       "customer_id                                                        \n",
       "1                   060 Morning Avenue     2016   NSW  Australia   \n",
       "2                  6 Meadow Vale Court     2153   NSW  Australia   \n",
       "4                   0 Holy Cross Court     4211   QLD  Australia   \n",
       "5                  17979 Del Mar Point     2448   NSW  Australia   \n",
       "6                     9 Oakridge Court     3216   VIC  Australia   \n",
       "...                                ...      ...   ...        ...   \n",
       "3999                   1482 Hauk Trail     3064   VIC  Australia   \n",
       "4000         57042 Village Green Point     4511   QLD  Australia   \n",
       "4001            87 Crescent Oaks Alley     2756   NSW  Australia   \n",
       "4002                  8194 Lien Street     4032   QLD  Australia   \n",
       "4003                   320 Acker Drive     2251   NSW  Australia   \n",
       "\n",
       "0           property_valuation  \n",
       "customer_id                     \n",
       "1                           10  \n",
       "2                           10  \n",
       "4                            9  \n",
       "5                            4  \n",
       "6                            9  \n",
       "...                        ...  \n",
       "3999                         3  \n",
       "4000                         6  \n",
       "4001                        10  \n",
       "4002                         7  \n",
       "4003                         7  \n",
       "\n",
       "[3999 rows x 5 columns]"
      ]
     },
     "execution_count": 8,
     "metadata": {},
     "output_type": "execute_result"
    }
   ],
   "source": [
    "df_address"
   ]
  },
  {
   "cell_type": "code",
   "execution_count": 9,
   "id": "2a1e8010-ac39-4db6-9fff-0c1740382e43",
   "metadata": {},
   "outputs": [],
   "source": [
    "df_address['property_valuation'] = df_address['property_valuation'].astype(int)"
   ]
  },
  {
   "cell_type": "code",
   "execution_count": 10,
   "id": "da0825d7-d2ae-49b7-b9af-341ad7902427",
   "metadata": {},
   "outputs": [
    {
     "name": "stdout",
     "output_type": "stream",
     "text": [
      "<class 'pandas.core.frame.DataFrame'>\n",
      "Index: 3999 entries, 1 to 4003\n",
      "Data columns (total 5 columns):\n",
      " #   Column              Non-Null Count  Dtype \n",
      "---  ------              --------------  ----- \n",
      " 0   address             3999 non-null   object\n",
      " 1   postcode            3999 non-null   object\n",
      " 2   state               3999 non-null   object\n",
      " 3   country             3999 non-null   object\n",
      " 4   property_valuation  3999 non-null   int32 \n",
      "dtypes: int32(1), object(4)\n",
      "memory usage: 171.8+ KB\n"
     ]
    }
   ],
   "source": [
    "df_address.info()"
   ]
  },
  {
   "cell_type": "code",
   "execution_count": 11,
   "id": "2eb70303-2e40-4f35-9cec-cd6d9e37a6f6",
   "metadata": {},
   "outputs": [],
   "source": [
    "df_address.to_csv('Cust_Address_cleaned.csv')"
   ]
  },
  {
   "cell_type": "code",
   "execution_count": null,
   "id": "216f6cb5-f501-4d5c-b562-bb4fbead0719",
   "metadata": {},
   "outputs": [],
   "source": []
  }
 ],
 "metadata": {
  "kernelspec": {
   "display_name": "Python 3 (ipykernel)",
   "language": "python",
   "name": "python3"
  },
  "language_info": {
   "codemirror_mode": {
    "name": "ipython",
    "version": 3
   },
   "file_extension": ".py",
   "mimetype": "text/x-python",
   "name": "python",
   "nbconvert_exporter": "python",
   "pygments_lexer": "ipython3",
   "version": "3.11.4"
  }
 },
 "nbformat": 4,
 "nbformat_minor": 5
}
